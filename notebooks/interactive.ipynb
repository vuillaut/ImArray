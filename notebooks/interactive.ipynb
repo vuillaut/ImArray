{
 "cells": [
  {
   "cell_type": "markdown",
   "metadata": {},
   "source": [
    "# Interactive notebook to display the effect of pointing or impact point"
   ]
  },
  {
   "cell_type": "code",
   "execution_count": null,
   "metadata": {},
   "outputs": [],
   "source": []
  },
  {
   "cell_type": "code",
   "execution_count": 1,
   "metadata": {},
   "outputs": [],
   "source": [
    "import pschitt.emission as em\n",
    "import pschitt.vizualisation as viz\n",
    "import pschitt.sky_objects as sky\n",
    "import pschitt.geometry as geo\n",
    "import pschitt.camera_image as ci\n",
    "import numpy as np\n",
    "import matplotlib.pyplot as plt\n",
    "import math\n"
   ]
  },
  {
   "cell_type": "code",
   "execution_count": 71,
   "metadata": {},
   "outputs": [],
   "source": [
    "%matplotlib inline"
   ]
  },
  {
   "cell_type": "code",
   "execution_count": null,
   "metadata": {},
   "outputs": [],
   "source": []
  },
  {
   "cell_type": "markdown",
   "metadata": {},
   "source": [
    "### Setting up"
   ]
  },
  {
   "cell_type": "code",
   "execution_count": 72,
   "metadata": {},
   "outputs": [],
   "source": [
    "shower = sky.shower()\n",
    "\n",
    "shower.impact_point = np.array([50,0,0])\n",
    "\n",
    "#shower direction\n",
    "shower.alt = math.radians(70)\n",
    "shower.az = math.radians(0)\n",
    "\n",
    "#pointing direction off-axis\n",
    "talt = math.radians(70)\n",
    "taz = math.radians(0)\n",
    "\n",
    "#shower parameters\n",
    "shower_top = 12000\n",
    "shower_length = 8000\n",
    "shower_width = 100\n",
    "\n",
    "shower.number_of_particles = int(1e4)\n",
    "\n",
    "shower.gaussian_ellipsoide(shower_top, shower_length, shower_width)\n",
    "\n",
    "tel_normal = geo.altaz_to_normal(talt,taz)\n",
    "tel1 = geo.Telescope([0,0,0],tel_normal)\n",
    "tel2 = geo.Telescope([100,0,0],tel_normal)\n",
    "tel3 = geo.Telescope([200,0,0],tel_normal)\n",
    "tel4 = geo.Telescope([400,0,0],tel_normal)\n",
    "tel5 = geo.Telescope([0,100,0],tel_normal)\n",
    "\n",
    "alltel = [tel1, tel2, tel3, tel4, tel5]\n",
    "\n",
    "trigger_intensity = 20.\n",
    "noise = 0\n",
    "\n",
    "shower.particles_angular_emission_profile = em.angular_profile.lgdt06\n",
    "shower.particles_angular_emission_profile_kwargs = {'eta':0.001}\n",
    "\n",
    "ci.array_shower_imaging(shower, alltel, noise)"
   ]
  },
  {
   "cell_type": "code",
   "execution_count": 73,
   "metadata": {},
   "outputs": [],
   "source": [
    "# alltel = geo.load_telescopes('../share/arrays/CTA_paranal.txt', normal=geo.altaz_to_normal(talt, taz))"
   ]
  },
  {
   "cell_type": "markdown",
   "metadata": {},
   "source": [
    "### Site Map"
   ]
  },
  {
   "cell_type": "code",
   "execution_count": 74,
   "metadata": {},
   "outputs": [
    {
     "data": {
      "text/plain": [
       "<matplotlib.legend.Legend at 0x1a2007e358>"
      ]
     },
     "execution_count": 74,
     "metadata": {},
     "output_type": "execute_result"
    },
    {
     "data": {
      "image/png": "[encoded data removed]",
      "text/plain": [
       "<matplotlib.figure.Figure at 0x1a204bfc18>"
      ]
     },
     "metadata": {},
     "output_type": "display_data"
    }
   ],
   "source": [
    "ax = viz.plot_array(alltel)\n",
    "ax.scatter(shower.impact_point[0], shower.impact_point[1], color='black', label='Impact point', marker=\"+\")\n",
    "ax.legend()"
   ]
  },
  {
   "cell_type": "code",
   "execution_count": 75,
   "metadata": {},
   "outputs": [],
   "source": [
    "from ipywidgets import interact, interactive, fixed, interact_manual, widgets"
   ]
  },
  {
   "cell_type": "code",
   "execution_count": 76,
   "metadata": {},
   "outputs": [
    {
     "data": {
      "application/vnd.jupyter.widget-view+json": {
       "model_id": "14029abab7b841b0bd43b02df2eefa82",
       "version_major": 2,
       "version_minor": 0
      },
      "text/plain": [
       "interactive(children=(IntSlider(value=1, description='i', max=3, min=-1), Output()), _dom_classes=('widget-int…"
      ]
     },
     "metadata": {},
     "output_type": "display_data"
    }
   ],
   "source": [
    "@interact(i=1)\n",
    "def f(i):\n",
    "    fig, ax = plt.subplots()\n",
    "    ax = viz.display_camera_image(alltel[i], s=10, ax=ax);\n",
    "    return ax"
   ]
  },
  {
   "cell_type": "markdown",
   "metadata": {},
   "source": [
    "## Effect of altitude"
   ]
  },
  {
   "cell_type": "code",
   "execution_count": 77,
   "metadata": {},
   "outputs": [
    {
     "data": {
      "application/vnd.jupyter.widget-view+json": {
       "model_id": "de124a06d92842fa998b1cf23260fd5d",
       "version_major": 2,
       "version_minor": 0
      },
      "text/plain": [
       "interactive(children=(IntSlider(value=0, description='i', max=4), Output()), _dom_classes=('widget-interact',)…"
      ]
     },
     "metadata": {},
     "output_type": "display_data"
    }
   ],
   "source": [
    "shower_dict = {}\n",
    "alltel = []\n",
    "\n",
    "altitude = [65,67,70,72,75]\n",
    "for alt in altitude:\n",
    "    shower = sky.shower()\n",
    "\n",
    "    shower.impact_point = np.array([50,0,0])\n",
    "\n",
    "    #shower direction\n",
    "    shower.alt = math.radians(alt)\n",
    "    shower.az = math.radians(90)\n",
    "\n",
    "    #pointing direction off-axis\n",
    "    talt = math.radians(70)\n",
    "    taz = math.radians(90)\n",
    "\n",
    "    #shower parameters\n",
    "    shower_top = 12000\n",
    "    shower_length = 8000\n",
    "    shower_width = 100\n",
    "\n",
    "    shower.number_of_particles = int(1e4)\n",
    "\n",
    "    shower.gaussian_ellipsoide(shower_top, shower_length, shower_width)\n",
    "\n",
    "    tel_normal = geo.altaz_to_normal(talt,taz)\n",
    "    tel = geo.Telescope([200,0,0], tel_normal)\n",
    "\n",
    "    trigger_intensity = 20.\n",
    "    noise = 0\n",
    "\n",
    "    shower.particles_angular_emission_profile = em.angular_profile.lgdt06\n",
    "    shower.particles_angular_emission_profile_kwargs = {'eta':0.01}\n",
    "\n",
    "    ci.array_shower_imaging(shower, [tel], noise)\n",
    "    \n",
    "    alltel.append(tel)\n",
    "\n",
    "    \n",
    "    \n",
    "@interact(i=widgets.IntSlider(min=0,max=len(alltel)-1,step=1,value=0))\n",
    "def f(i): \n",
    "    ax = viz.display_camera_image(alltel[i], s=10);\n",
    "    ax.set_title(\"Shower altitude = {}\".format(altitude[i]));"
   ]
  },
  {
   "cell_type": "markdown",
   "metadata": {},
   "source": [
    "## Effect of shower azimuth"
   ]
  },
  {
   "cell_type": "code",
   "execution_count": 78,
   "metadata": {},
   "outputs": [
    {
     "data": {
      "application/vnd.jupyter.widget-view+json": {
       "model_id": "48554ae2cdb044c39d6959c9fca3e818",
       "version_major": 2,
       "version_minor": 0
      },
      "text/plain": [
       "interactive(children=(IntSlider(value=0, description='i', max=4), Output()), _dom_classes=('widget-interact',)…"
      ]
     },
     "metadata": {},
     "output_type": "display_data"
    }
   ],
   "source": [
    "shower_dict = {}\n",
    "alltel = []\n",
    "\n",
    "azimuth = [65,67,70,72,75]\n",
    "for az in azimuth:\n",
    "    shower = sky.shower()\n",
    "\n",
    "    shower.impact_point = np.array([50,0,0])\n",
    "\n",
    "    #shower direction\n",
    "    shower.alt = math.radians(40)\n",
    "    shower.az = math.radians(az)\n",
    "\n",
    "    #pointing direction off-axis\n",
    "    talt = math.radians(40)\n",
    "    taz = math.radians(70)\n",
    "\n",
    "    #shower parameters\n",
    "    shower_top = 12000\n",
    "    shower_length = 8000\n",
    "    shower_width = 100\n",
    "\n",
    "    shower.number_of_particles = int(1e4)\n",
    "\n",
    "    shower.gaussian_ellipsoide(shower_top, shower_length, shower_width)\n",
    "\n",
    "    tel_normal = geo.altaz_to_normal(talt,taz)\n",
    "    tel = geo.Telescope([200,0,0], tel_normal)\n",
    "\n",
    "    trigger_intensity = 20.\n",
    "    noise = 0\n",
    "\n",
    "    shower.particles_angular_emission_profile = em.angular_profile.lgdt06\n",
    "    shower.particles_angular_emission_profile_kwargs = {'eta':0.01}\n",
    "\n",
    "    ci.array_shower_imaging(shower, [tel], noise)\n",
    "    \n",
    "    alltel.append(tel)\n",
    "\n",
    "\n",
    "@interact(i=widgets.IntSlider(min=0,max=len(alltel)-1,step=1,value=0))\n",
    "def f(i):\n",
    "    ax = viz.display_camera_image(alltel[i], s=10);\n",
    "    ax.set_title(\"Shower azimuth = {}\".format(azimuth[i]))"
   ]
  },
  {
   "cell_type": "markdown",
   "metadata": {},
   "source": [
    "## Effect of impact point"
   ]
  },
  {
   "cell_type": "code",
   "execution_count": 91,
   "metadata": {},
   "outputs": [
    {
     "data": {
      "image/png": "[encoded data removed]",
      "text/plain": [
       "<matplotlib.figure.Figure at 0x1a20885748>"
      ]
     },
     "metadata": {},
     "output_type": "display_data"
    },
    {
     "data": {
      "application/vnd.jupyter.widget-view+json": {
       "model_id": "c645f0e288404b3abd3c51357860bda6",
       "version_major": 2,
       "version_minor": 0
      },
      "text/plain": [
       "interactive(children=(IntSlider(value=0, description='i', max=4), Output()), _dom_classes=('widget-interact',)…"
      ]
     },
     "metadata": {},
     "output_type": "display_data"
    }
   ],
   "source": [
    "shower_dict = {}\n",
    "alltel = []\n",
    "\n",
    "impact_x = [-500,50,200,400,1000]\n",
    "for x in impact_x:\n",
    "    shower = sky.shower()\n",
    "\n",
    "    shower.impact_point = np.array([x,0,0])\n",
    "\n",
    "    #shower direction\n",
    "    shower.alt = math.radians(40)\n",
    "    shower.az = math.radians(70)\n",
    "\n",
    "    #pointing direction off-axis\n",
    "    talt = math.radians(40)\n",
    "    taz = math.radians(70)\n",
    "\n",
    "    #shower parameters\n",
    "    shower_top = 12000\n",
    "    shower_length = 8000\n",
    "    shower_width = 100\n",
    "\n",
    "    shower.number_of_particles = int(1e4)\n",
    "\n",
    "    shower.gaussian_ellipsoide(shower_top, shower_length, shower_width)\n",
    "\n",
    "    tel_normal = geo.altaz_to_normal(talt,taz)\n",
    "    tel = geo.Telescope([200,0,0], tel_normal)\n",
    "\n",
    "    trigger_intensity = 20.\n",
    "    noise = 0\n",
    "\n",
    "    shower.particles_angular_emission_profile = em.angular_profile.lgdt06\n",
    "    shower.particles_angular_emission_profile_kwargs = {'eta':0.1}\n",
    "\n",
    "    ci.array_shower_imaging(shower, [tel], noise)\n",
    "    \n",
    "    alltel.append(tel)\n",
    "    \n",
    "ax = viz.plot_array([tel])\n",
    "for i, x in enumerate(impact_x):\n",
    "    ax.scatter(x, 0, label=i, marker='+')\n",
    "ax.legend()\n",
    "\n",
    "@interact(i=widgets.IntSlider(min=0,max=len(alltel)-1,step=1,value=0))\n",
    "def f(i):\n",
    "    ax = viz.display_camera_image(alltel[i], s=10);\n",
    "    ax.set_title(\"Impact point X value = {}\".format(impact_x[i]))"
   ]
  },
  {
   "cell_type": "markdown",
   "metadata": {},
   "source": [
    "## Effect of impact point Y-value"
   ]
  },
  {
   "cell_type": "code",
   "execution_count": 89,
   "metadata": {},
   "outputs": [
    {
     "data": {
      "image/png": "[encoded data removed]",
      "text/plain": [
       "<matplotlib.figure.Figure at 0x1a1f321828>"
      ]
     },
     "metadata": {},
     "output_type": "display_data"
    },
    {
     "data": {
      "application/vnd.jupyter.widget-view+json": {
       "model_id": "3147298005724fe186a230ce8e48a7ce",
       "version_major": 2,
       "version_minor": 0
      },
      "text/plain": [
       "interactive(children=(IntSlider(value=0, description='i', max=4), Output()), _dom_classes=('widget-interact',)…"
      ]
     },
     "metadata": {},
     "output_type": "display_data"
    }
   ],
   "source": [
    "shower_dict = {}\n",
    "alltel = []\n",
    "\n",
    "impact_y = [-500,50,200,400,1000]\n",
    "for y in impact_y:\n",
    "    shower = sky.shower()\n",
    "\n",
    "    shower.impact_point = np.array([200,y,0])\n",
    "\n",
    "    #shower direction\n",
    "    shower.alt = math.radians(50)\n",
    "    shower.az = math.radians(0)\n",
    "\n",
    "    #pointing direction off-axis\n",
    "    talt = math.radians(50)\n",
    "    taz = math.radians(0)\n",
    "\n",
    "    #shower parameters\n",
    "    shower_top = 12000\n",
    "    shower_length = 8000\n",
    "    shower_width = 100\n",
    "\n",
    "    shower.number_of_particles = int(1e4)\n",
    "\n",
    "    shower.gaussian_ellipsoide(shower_top, shower_length, shower_width)\n",
    "\n",
    "    tel_normal = geo.altaz_to_normal(talt,taz)\n",
    "    tel = geo.Telescope([200,0,0], tel_normal)\n",
    "\n",
    "    trigger_intensity = 20.\n",
    "    noise = 0\n",
    "\n",
    "    shower.particles_angular_emission_profile = em.angular_profile.lgdt06\n",
    "    shower.particles_angular_emission_profile_kwargs = {'eta':0.1}\n",
    "\n",
    "    ci.array_shower_imaging(shower, [tel], noise)\n",
    "    \n",
    "    alltel.append(tel)\n",
    "\n",
    "ax = viz.plot_array([tel])\n",
    "for i, y in enumerate(impact_y):\n",
    "    ax.scatter(0, y, label=i, marker='+')\n",
    "ax.legend()\n",
    "@interact(i=widgets.IntSlider(min=0,max=len(alltel)-1,step=1,value=0))\n",
    "def f(i):\n",
    "    ax = viz.display_camera_image(alltel[i], s=12);\n",
    "    ax.set_title(\"Impact point X value = {}\".format(impact_x[i]))"
   ]
  },
  {
   "cell_type": "code",
   "execution_count": null,
   "metadata": {},
   "outputs": [],
   "source": []
  },
  {
   "cell_type": "code",
   "execution_count": null,
   "metadata": {},
   "outputs": [],
   "source": []
  }
 ],
 "metadata": {
  "kernelspec": {
   "display_name": "Python 3",
   "language": "python",
   "name": "python3"
  },
  "language_info": {
   "codemirror_mode": {
    "name": "ipython",
    "version": 3
   },
   "file_extension": ".py",
   "mimetype": "text/x-python",
   "name": "python",
   "nbconvert_exporter": "python",
   "pygments_lexer": "ipython3",
   "version": "3.6.4"
  }
 },
 "nbformat": 4,
 "nbformat_minor": 2
}
