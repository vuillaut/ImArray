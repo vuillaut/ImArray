{
 "cells": [
  {
   "cell_type": "code",
   "execution_count": 3,
   "metadata": {},
   "outputs": [],
   "source": [
    "import pschitt.emission as em\n",
    "import pschitt.vizualisation as viz\n",
    "import pschitt.sky_objects as sky\n",
    "import pschitt.geometry as geo\n",
    "import pschitt.camera_image as ci\n",
    "import numpy as np\n",
    "import matplotlib.pyplot as plt\n",
    "import math\n",
    "import pschitt.dataset as ds\n",
    "from ipywidgets import interact, interactive, fixed, interact_manual, widgets"
   ]
  },
  {
   "cell_type": "code",
   "execution_count": 5,
   "metadata": {},
   "outputs": [
    {
     "data": {
      "text/html": [
       "<style>.container { width:100% !important; }</style>"
      ],
      "text/plain": [
       "<IPython.core.display.HTML object>"
      ]
     },
     "metadata": {},
     "output_type": "display_data"
    }
   ],
   "source": [
    "import matplotlib\n",
    "%matplotlib inline\n",
    "\n",
    "from IPython.core.display import display, HTML\n",
    "display(HTML(\"<style>.container { width:100% !important; }</style>\"))\n",
    "\n",
    "font = {'size'   : 20}\n",
    "matplotlib.rc('font', **font)"
   ]
  },
  {
   "cell_type": "code",
   "execution_count": null,
   "metadata": {},
   "outputs": [],
   "source": []
  },
  {
   "cell_type": "code",
   "execution_count": null,
   "metadata": {},
   "outputs": [
    {
     "name": "stdout",
     "output_type": "stream",
     "text": [
      "100 telescopes loaded\n"
     ]
    }
   ],
   "source": [
    "shower = sky.shower()\n",
    "\n",
    "shower.impact_point = np.array([100,100,0])\n",
    "\n",
    "#shower direction\n",
    "shower.alt = math.radians(70)\n",
    "shower.az = math.radians(0)\n",
    "\n",
    "#pointing direction off-axis\n",
    "talt = math.radians(70)\n",
    "taz = math.radians(0)\n",
    "\n",
    "#shower parameters\n",
    "shower_top = 12000\n",
    "shower_length = 8000\n",
    "shower_width = 200\n",
    "\n",
    "shower.number_of_particles = int(1e5)\n",
    "\n",
    "shower.gaussian_ellipsoide(shower_top, shower_length, shower_width)\n",
    "\n",
    "tel_normal = geo.altaz_to_normal(talt,taz)\n",
    "# tel1 = geo.Telescope([0,0,0],tel_normal)\n",
    "# tel2 = geo.Telescope([200,0,0],tel_normal)\n",
    "# tel3 = geo.Telescope([400,0,0],tel_normal)\n",
    "# tel4 = geo.Telescope([800,0,0],tel_normal)\n",
    "# tel5 = geo.Telescope([0,400,0],tel_normal)\n",
    "\n",
    "# alltel = [tel1, tel2, tel3, tel4, tel5]\n",
    "\n",
    "alltel = geo.load_telescopes(ds.get('CTA_paranal.txt'), normal=tel_normal)\n",
    "\n",
    "trigger_intensity = 20.\n",
    "noise = 0\n",
    "\n",
    "shower.particles_angular_emission_profile = em.angular_profile.lgdt06\n",
    "shower.particles_angular_emission_profile_kwargs = {'eta':1}\n",
    "\n",
    "ci.array_shower_imaging(shower, alltel, noise)"
   ]
  },
  {
   "cell_type": "code",
   "execution_count": null,
   "metadata": {},
   "outputs": [],
   "source": [
    "def plot_array(telescope_array, ax=None, **kwargs):\n",
    "    \"\"\"\n",
    "    Plot a map of the telescopes array\n",
    "\n",
    "    Parameters\n",
    "    ----------\n",
    "    telescope_array: list of telescopes classes\n",
    "    \"\"\"\n",
    "\n",
    "    ax = plt.gca() if ax is None else ax\n",
    "\n",
    "    for tel in telescope_array:\n",
    "        ax.scatter(tel.mirror_center[0], tel.mirror_center[1], **kwargs)\n",
    "        ax.annotate(str(tel.id), (tel.mirror_center[0] + 20, tel.mirror_center[1] + 20))\n",
    "    ax.axis('equal')\n",
    "    ax.set_xlabel(\"x [m]\")\n",
    "    ax.set_ylabel(\"y [m]\")\n",
    "\n",
    "    return ax"
   ]
  },
  {
   "cell_type": "code",
   "execution_count": null,
   "metadata": {},
   "outputs": [],
   "source": []
  },
  {
   "cell_type": "code",
   "execution_count": null,
   "metadata": {},
   "outputs": [],
   "source": [
    "widgets.Dropdown(\n",
    "    options=['1', '2', '3'],\n",
    "    value='2',\n",
    "    description='Number:',\n",
    "    disabled=False,\n",
    ")\n",
    "# widgets.IntSlider(min=0,max=len(alltel)-1,step=1,value=0)\n",
    "@interact(i=widgets.Dropdown(options=np.arange(1,len(alltel)), description=\"Telescope\"))\n",
    "def f(i): \n",
    "    fig, axes = plt.subplots(1,2,figsize=(42,20), gridspec_kw = {'width_ratios':[5, 3]});\n",
    "    \n",
    "    tel_id = i-1\n",
    "    \n",
    "    axes[0] = plot_array(alltel, ax=axes[0], color='grey')\n",
    "    ax = viz.display_camera_image(alltel[i], s=140, ax=axes[1]);\n",
    "    axes[0] = plot_array([alltel[tel_id]], ax=axes[0], color='red')\n",
    "    # viz.plot_array_reconstructed\n",
    "    axes[1].set_title(\"Telescope {}\".format(alltel[tel_id].id), fontsize=20);\n",
    "    axes[0].scatter(shower.impact_point[0], shower.impact_point[1], color='blue', label='Impact point', marker=\"x\", s=300)\n",
    "    axes[0].legend()\n",
    "    \n"
   ]
  },
  {
   "cell_type": "code",
   "execution_count": null,
   "metadata": {},
   "outputs": [],
   "source": []
  }
 ],
 "metadata": {
  "kernelspec": {
   "display_name": "Python 3",
   "language": "python",
   "name": "python3"
  },
  "language_info": {
   "codemirror_mode": {
    "name": "ipython",
    "version": 3
   },
   "file_extension": ".py",
   "mimetype": "text/x-python",
   "name": "python",
   "nbconvert_exporter": "python",
   "pygments_lexer": "ipython3",
   "version": "3.6.4"
  }
 },
 "nbformat": 4,
 "nbformat_minor": 2
}
